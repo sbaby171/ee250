{
 "cells": [
  {
   "cell_type": "markdown",
   "metadata": {},
   "source": [
    "# Chapter 3 questions: \n",
    "\n",
    "* [3.13](#3_13)\n",
    "* [3.31](#3_31) \n",
    "* [3.57](#3_57) \n"
   ]
  },
  {
   "cell_type": "code",
   "execution_count": null,
   "metadata": {},
   "outputs": [],
   "source": [
    "import numpy as np\n",
    "import matplotlib.pyplot as plt"
   ]
  },
  {
   "cell_type": "markdown",
   "metadata": {},
   "source": [
    "\n",
    "\n",
    "### 3.13<a name=\"3_13\"/>\n",
    "Let $X$ be a random variable with pmf $p_{k} = \\frac{c}{k^{2}}$ for $k = 1,2,....$\n",
    "\n",
    "__(a)__ Estimate the value of c numerically. Note the series converges.\n",
    "\n",
    "_Hint_: $\\sum_{k=1}^{+\\infty} \\frac{1}{k^2} = \\frac{\\pi^{2}}{6}$\n",
    "\n",
    "__(b)__ Find $P[X>4]$\n",
    "\n",
    "__(c)__ Find $P[6 \\le X \\le 8]$.\n",
    "\n",
    "#### Answers: \n",
    "__(a)__ Using the property of pmfs that the summation of all elements in a random variable's sample space (i.e. for all k's) must equal, we can simply set the summation to 1 and solve for c (remeber c is just a constant). \n",
    "\n",
    "__Property used__: \n",
    "$\\sum_{x\\in S_x}=p_X(x)$ $\\sum_{all\\space k}=p_X(x_k)$ $\\sum_{all\\space k}=P[A_k] = 1$\n",
    "\n",
    "$\\sum_{k=1}^{+\\infty} \\frac{1}{k^2} = $ \n",
    "$c\\sum_{k=1}^{+\\infty} \\frac{1}{k^2}  = $\n",
    "$c \\frac{\\pi^{2}}{6} = 1 \\rightarrow c = \\frac{6}{\\pi^2} \\simeq 0.0608$\n",
    "\n",
    "\n",
    "\n",
    "__(b)__ we know $P[X>4] + P[X\\le 4] = 1$, therefore, we solve for $P[X>4]$ by rearranging the terms, expanding $P[X\\le 4]$ using the pmf completed from part a, and simplifing. \n",
    "\n",
    "$P[X>4]= 1 - P[X\\le 4]$\n",
    "\n",
    "$\\quad\\quad\\quad = 1 - P[X\\le 4]$\n",
    "\n",
    "$\\quad\\quad\\quad = 1 - \\big(p_X(x_0) + p_X(x_1) + p_X(x_2) + p_X(x_3)\\big)$\n",
    "\n",
    "$\\quad\\quad\\quad = 1 - c\\big(\\frac{1}{1} + \\frac{1}{2^2} + \\frac{1}{3^2} + \\frac{1}{4^2}\\big)$\n",
    "\n",
    "$\\quad\\quad\\quad = 1 - c\\big(\\frac{1}{1} + \\frac{1}{2^2} + \\frac{1}{3^2} + \\frac{1}{4^2}\\big)$\n",
    "\n",
    "__(c)__: Part c is very similiar to part be in that we will simply declare which indices are required to the given range and push each one of the indices into the pmf equation. \n",
    "\n",
    "$P[6 \\le X \\le 8] =$ \n",
    "\n",
    "$\\quad\\quad\\quad = P[X=6] + P[X=7] + P[X=8] $\n",
    "\n",
    "$\\quad\\quad\\quad =\\big(p_X(x_6) + p_X(x_7) + p_X(x_8)\\big)$\n",
    "\n",
    "$\\quad\\quad\\quad = c\\big(\\frac{1}{6^2} + \\frac{1}{7^2} + \\frac{1}{8^2}\\big)$\n",
    "\n"
   ]
  },
  {
   "cell_type": "code",
   "execution_count": 30,
   "metadata": {},
   "outputs": [
    {
     "name": "stdout",
     "output_type": "stream",
     "text": [
      "Part a: 0.607927\n",
      "Part b: 0.13454822305503145\n",
      "Part c: 0.03879240045490015\n"
     ]
    },
    {
     "data": {
      "image/png": "[encoded data removed]",
      "text/plain": [
       "<Figure size 432x288 with 1 Axes>"
      ]
     },
     "metadata": {
      "needs_background": "light"
     },
     "output_type": "display_data"
    }
   ],
   "source": [
    "part_a = 6.0/(np.pi**(2))\n",
    "print(\"Part a: %f\"%(part_a))\n",
    "part_b = 1 - part_a * (np.sum(np.asarray([1,1.0/4.0,1.0/9.0,1.0/16.0])))\n",
    "print(\"Part b: %s\"%(str(part_b)))\n",
    "part_c = part_a * (np.sum(np.asarray([1.0/36.0,1.0/49.0,1.0/64.0])))\n",
    "print(\"Part c: %s\"%(str(part_c)))\n",
    "      \n",
    "def problem_3_13_pmf(c,ks=25):\n",
    "    \"\"\" \n",
    "    Parameters:\n",
    "    -----------\n",
    "      c    : Constant (should be 6.0/(pi**2) for convergence. )\n",
    "      [ks] : How many ks to plot foe\n",
    "    \"\"\"\n",
    "    ret = []\n",
    "    for k in range(1,ks+1):\n",
    "        ret.append( c*(1/k**2))\n",
    "        # TODO: Should be multipled at the end\n",
    "        # TODO: This would require changes to all numpy-arrays.\n",
    "    return ret\n",
    "      \n",
    "pmf = problem_3_13_pmf(c=part_a,ks = 20)\n",
    "plt.stem(np.arange(len(pmf)),np.asarray(pmf));plt.grid(True)"
   ]
  },
  {
   "cell_type": "markdown",
   "metadata": {},
   "source": [
    "### 3.31 <a name=\"3_31\"/>\n",
    "__(a)__ Suppose a fair coin is tossed $n$ times. Each coin toss costs $d$ dollars and the reward in obtaining $X$ heads is $aX^2 + bX$. Find the expected value of the net reward. \n",
    "\n",
    "__(b)__ Suppose that the reward in obtaining $X$ heads is $a^X$, where $a>0$. Find the expected value of the reward. \n",
    "\n",
    "#### Answers: \n",
    "\n",
    "__"
   ]
  },
  {
   "cell_type": "code",
   "execution_count": null,
   "metadata": {},
   "outputs": [],
   "source": []
  },
  {
   "cell_type": "code",
   "execution_count": null,
   "metadata": {},
   "outputs": [],
   "source": []
  },
  {
   "cell_type": "markdown",
   "metadata": {},
   "source": [
    "### 3.57 <a name=\"3_57\"/>"
   ]
  },
  {
   "cell_type": "code",
   "execution_count": null,
   "metadata": {},
   "outputs": [],
   "source": []
  },
  {
   "cell_type": "code",
   "execution_count": null,
   "metadata": {},
   "outputs": [],
   "source": []
  },
  {
   "cell_type": "code",
   "execution_count": null,
   "metadata": {},
   "outputs": [],
   "source": []
  }
 ],
 "metadata": {
  "kernelspec": {
   "display_name": "Python 3",
   "language": "python",
   "name": "python3"
  },
  "language_info": {
   "codemirror_mode": {
    "name": "ipython",
    "version": 3
   },
   "file_extension": ".py",
   "mimetype": "text/x-python",
   "name": "python",
   "nbconvert_exporter": "python",
   "pygments_lexer": "ipython3",
   "version": "3.7.0"
  }
 },
 "nbformat": 4,
 "nbformat_minor": 2
}
