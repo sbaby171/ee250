{
 "cells": [
  {
   "cell_type": "markdown",
   "metadata": {},
   "source": []
  },
  {
   "cell_type": "code",
   "execution_count": 1,
   "metadata": {},
   "outputs": [],
   "source": [
    "import numpy as np\n",
    "import matplotlib.pyplot as plt\n",
    "import scipy\n",
    "import scipy.special"
   ]
  },
  {
   "cell_type": "markdown",
   "metadata": {},
   "source": [
    "### PS2.7: (Midterm Fall 2014)\n",
    "The pmf od a discrete random variable $X$ is shown in the following figure,\n",
    "\n",
    "a) Find and plot $p_{X}(x|X>0)$\n",
    "\n",
    "b) Find $E[X|X>0]$"
   ]
  },
  {
   "cell_type": "code",
   "execution_count": 17,
   "metadata": {},
   "outputs": [
    {
     "data": {
      "image/png": "[encoded data removed]",
      "text/plain": [
       "<Figure size 432x288 with 1 Axes>"
      ]
     },
     "metadata": {
      "needs_background": "light"
     },
     "output_type": "display_data"
    }
   ],
   "source": [
    "pmfs = np.asarray([0,.25,.5,.25,0])\n",
    "indx = np.arange(start=-1,stop=len(pmfs)-1)\n",
    "plt.stem(indx, pmfs,); plt.title(\"Original PMF\");plt.grid()"
   ]
  },
  {
   "cell_type": "markdown",
   "metadata": {},
   "source": [
    "### PS2.10: (Midterm Fall 2005) \n",
    "The number of cars passing through a junction in one minute is a Poisson random variable with parameters $\\lambda_{D} = 4$ if it is a weekday and $\\lambda_{E} = 1$ if it is a weekend. An old mathematician sitting in a nursing home  watching the junction wants to detect whether it is a weekday or weekend by counting the number of cars passing through it. \n",
    "\n",
    "a) Find $P[E | N =k ]$ and $P[D | N =k ]$ where $E$ and $D$ are the weekend and weekday events, respectively and $N$ is the number of cars in one minute."
   ]
  },
  {
   "cell_type": "markdown",
   "metadata": {},
   "source": [
    "### PS2.14: (Midterm Fall 2017) \n",
    "The number of packets arriving at a multiplexer is a Poisson random variable. A student has written code that records \n",
    "\n",
    "#### Answer:\n",
    "1 = [atleast one packet] + [no packet]\n",
    "\n",
    "1 = 2/3 {k=1,2,...} + 1/3 {k=0}\n",
    "\n",
    "$P[N>0] = 1 - P[N=0] = \\frac{2}{3}$\n",
    "\n",
    "$P[N=0]= \\frac{1}{3} = e^{-\\alpha}$\n",
    "\n",
    "$\\alpha = - log(\\frac{1}{3}) \\approx 1.1$\n",
    "\n",
    "\n"
   ]
  },
  {
   "cell_type": "code",
   "execution_count": 4,
   "metadata": {},
   "outputs": [
    {
     "data": {
      "text/plain": [
       "1.0986122886681098"
      ]
     },
     "execution_count": 4,
     "metadata": {},
     "output_type": "execute_result"
    }
   ],
   "source": [
    "-np.log(1/3)"
   ]
  },
  {
   "cell_type": "markdown",
   "metadata": {},
   "source": [
    "----"
   ]
  },
  {
   "cell_type": "markdown",
   "metadata": {},
   "source": [
    "### PS3.3: (Midterm Fall 2008): \n",
    "The pdf of a random variable $X$ is shown in the following figure.\n",
    "\n",
    "<img src=\"images/ee250.ps3.fig1.png\" style=\"float: left;\" width=\"40%\">\n",
    "\n",
    "\n",
    "\n",
    "\n",
    "a.) Find $R$.\n",
    "    \n",
    "b.) Find $P[|X|\\lt\\frac{R}{2} ]$\n",
    "\n",
    "\n"
   ]
  },
  {
   "cell_type": "markdown",
   "metadata": {},
   "source": [
    "----\n"
   ]
  },
  {
   "cell_type": "markdown",
   "metadata": {},
   "source": [
    "### PS3.7: (Midterm Spring 2009): \n",
    "The pdf of a continous random variable $X$ is given as follows: \n",
    "\n",
    "$$ f_{X}(x) =  \n",
    "\\left\\{\n",
    "\\begin{array}{ll}\n",
    "      2x  \\space\\space\\space 0 \\lt x \\lt 1  \\\\\n",
    "      0   \\space\\space\\space otherwise \\\\\n",
    "\\end{array} \n",
    "\\right. \n",
    "$$ \n",
    "\n",
    "Find $a$ such that $P[X>a] = a$.\n",
    "\n",
    "#### Answers: \n",
    "$P[X>a] = 1 - P[x\\le a]$\n",
    "\n",
    "$\\space\\space\\space\\space\\space\\space\\space\\space\\space\\space\\space\\space\\space\\space \\space = 1 - F_{x}[a]$"
   ]
  },
  {
   "cell_type": "code",
   "execution_count": null,
   "metadata": {},
   "outputs": [],
   "source": []
  },
  {
   "cell_type": "code",
   "execution_count": null,
   "metadata": {},
   "outputs": [],
   "source": []
  },
  {
   "cell_type": "code",
   "execution_count": null,
   "metadata": {},
   "outputs": [],
   "source": []
  },
  {
   "cell_type": "code",
   "execution_count": null,
   "metadata": {},
   "outputs": [],
   "source": []
  },
  {
   "cell_type": "markdown",
   "metadata": {},
   "source": [
    "\n",
    "$$A=\\frac{1}{|a|},$$ \n",
    "\n",
    "$$ A_{krit}(a)=   \\left\\{\n",
    "\\begin{array}{ll}\n",
    "      \\frac{\\sin(2\\pi*floor(\\frac{|a|}{2*\\pi})+\\frac{\\pi}{2})}{2\\pi*floor(\\frac{|a|}{2*\\pi})+\\frac{\\pi}{2}} & a>0 \\\\\n",
    "      \\frac{\\sin(2\\pi*floor(\\frac{|a|}{2*\\pi})+\\frac{3\\pi}{2})}{2\\pi*floor(\\frac{|a|}{2*\\pi})+\\frac{3\\pi}{2}} & a<0\\\\\n",
    "\\end{array} \n",
    "\\right.  $$ i\n",
    "\n",
    "\n",
    "\n",
    "$$ n_o(a)=  \\left\\{\n",
    "\\begin{array}{ll}\n",
    "      |floor(\\frac{|a|}{2*\\pi})-1| & a>2\\pi \\\\\n",
    "      |floor(\\frac{|a|}{2*\\pi})-1|-2 & 0<a<2\\pi \\land A\\leq A_{krit} \\\\\n",
    "      floor(\\frac{|a|}{2*\\pi})+1 & a<0 \\\\\n",
    "\\end{array} \n",
    "\\right. $$ "
   ]
  },
  {
   "cell_type": "code",
   "execution_count": null,
   "metadata": {},
   "outputs": [],
   "source": []
  }
 ],
 "metadata": {
  "kernelspec": {
   "display_name": "Python 3",
   "language": "python",
   "name": "python3"
  },
  "language_info": {
   "codemirror_mode": {
    "name": "ipython",
    "version": 3
   },
   "file_extension": ".py",
   "mimetype": "text/x-python",
   "name": "python",
   "nbconvert_exporter": "python",
   "pygments_lexer": "ipython3",
   "version": "3.7.0"
  }
 },
 "nbformat": 4,
 "nbformat_minor": 2
}
