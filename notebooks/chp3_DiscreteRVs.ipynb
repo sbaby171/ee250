{
 "cells": [
  {
   "cell_type": "markdown",
   "metadata": {},
   "source": [
    "## Binomial RV: "
   ]
  },
  {
   "cell_type": "code",
   "execution_count": 31,
   "metadata": {},
   "outputs": [
    {
     "data": {
      "text/plain": [
       "<StemContainer object of 3 artists>"
      ]
     },
     "execution_count": 31,
     "metadata": {},
     "output_type": "execute_result"
    },
    {
     "data": {
      "image/png": "[encoded data removed]",
      "text/plain": [
       "<Figure size 432x288 with 1 Axes>"
      ]
     },
     "metadata": {
      "needs_background": "light"
     },
     "output_type": "display_data"
    }
   ],
   "source": [
    "import numpy as np\n",
    "import matplotlib.pyplot as plt\n",
    "import scipy\n",
    "import scipy.special\n",
    "\n",
    "def binomial_pmf(p,n,):\n",
    "    \"\"\" \n",
    "    Parameters:\n",
    "    -----------\n",
    "      p : probabiility of success\n",
    "      n : repeats of experiment\n",
    "      k : upper limit \n",
    "    \"\"\"\n",
    "    ks = []\n",
    "    q = 1-p\n",
    "    for k in range(n+1):\n",
    "        binom_coef = scipy.special.comb(n,k)\n",
    "        f = (binom_coef) *(p**(k)) * ( (q)**(n-k) )\n",
    "        ks.append(f)\n",
    "    return ks\n",
    "\n",
    "p = 0.5 ; n=24\n",
    "ks = binomial_pmf(p,n)\n",
    "plt.stem(np.arange(len(ks)),np.asarray(ks))"
   ]
  },
  {
   "cell_type": "markdown",
   "metadata": {},
   "source": [
    "## Geometric RV: "
   ]
  },
  {
   "cell_type": "code",
   "execution_count": 23,
   "metadata": {},
   "outputs": [
    {
     "data": {
      "text/plain": [
       "<StemContainer object of 3 artists>"
      ]
     },
     "execution_count": 23,
     "metadata": {},
     "output_type": "execute_result"
    },
    {
     "data": {
      "image/png": "[encoded data removed]",
      "text/plain": [
       "<Figure size 432x288 with 1 Axes>"
      ]
     },
     "metadata": {
      "needs_background": "light"
     },
     "output_type": "display_data"
    }
   ],
   "source": [
    "import numpy as np\n",
    "import matplotlib.pyplot as plt\n",
    "import scipy\n",
    "\n",
    "def geometric_pmf(p,k):\n",
    "    \"\"\" \n",
    "    Parameters:\n",
    "    -----------\n",
    "      p : probabiility of success\n",
    "      k : upper limit \n",
    "    \"\"\"\n",
    "    ks = []\n",
    "    q = 1-p\n",
    "    for _k in range(1,k):\n",
    "        f = (q)**(_k-1)\n",
    "        ks.append(f*p)\n",
    "    return ks\n",
    "\n",
    "p = .5; k = 20\n",
    "ks = geometric_pmf(p,k)\n",
    "plt.stem(np.arange(len(ks)),np.asarray(ks))\n",
    "# TODO: Overlay a=.75, a=3, and a=9\n",
    "# TODO: Apply legend. "
   ]
  },
  {
   "cell_type": "markdown",
   "metadata": {},
   "source": [
    "## Poisson RV: "
   ]
  },
  {
   "cell_type": "code",
   "execution_count": 9,
   "metadata": {},
   "outputs": [
    {
     "data": {
      "text/plain": [
       "<StemContainer object of 3 artists>"
      ]
     },
     "execution_count": 9,
     "metadata": {},
     "output_type": "execute_result"
    },
    {
     "data": {
      "image/png": "[encoded data removed]",
      "text/plain": [
       "<Figure size 432x288 with 1 Axes>"
      ]
     },
     "metadata": {
      "needs_background": "light"
     },
     "output_type": "display_data"
    }
   ],
   "source": [
    "import numpy as np\n",
    "import matplotlib.pyplot as plt\n",
    "import scipy\n",
    "\n",
    "def poisson_pmf(a,k,):\n",
    "    ks = []\n",
    "    constant = np.exp(-a)\n",
    "    for k_ in range(k):\n",
    "        numer = a ** k_\n",
    "        denom = scipy.math.factorial(k_)\n",
    "        ks.append((numer/denom)*constant)\n",
    "    return ks\n",
    "\n",
    "a = 9; k = 20\n",
    "ks = poisson_pmf(a,k)\n",
    "plt.stem(np.arange(len(ks)),np.asarray(ks))\n",
    "# TODO: Overlay a=.75, a=3, and a=9\n",
    "# TODO: Apply legend. "
   ]
  },
  {
   "cell_type": "code",
   "execution_count": 22,
   "metadata": {},
   "outputs": [
    {
     "name": "stdout",
     "output_type": "stream",
     "text": [
      "2.2699964881242426e-06\n"
     ]
    }
   ],
   "source": [
    "import scipy\n",
    "k = 5\n",
    "a = 3\n",
    "\n",
    "A = a ^ k\n",
    "B = scipy.math.factorial(k)  \n",
    "C = np.exp(-10)\n",
    "print(A/B * C)"
   ]
  },
  {
   "cell_type": "code",
   "execution_count": 31,
   "metadata": {},
   "outputs": [
    {
     "data": {
      "text/plain": [
       "array(10)"
      ]
     },
     "execution_count": 31,
     "metadata": {},
     "output_type": "execute_result"
    }
   ],
   "source": [
    "np.asarray(10)"
   ]
  },
  {
   "cell_type": "code",
   "execution_count": 11,
   "metadata": {},
   "outputs": [
    {
     "name": "stdout",
     "output_type": "stream",
     "text": [
      "1\n",
      "2\n",
      "3\n",
      "4\n",
      "5\n",
      "6\n",
      "7\n",
      "8\n",
      "9\n"
     ]
    }
   ],
   "source": [
    "k = 10\n",
    "for k_ in range(1,k):\n",
    "    print(k_)"
   ]
  },
  {
   "cell_type": "code",
   "execution_count": 21,
   "metadata": {},
   "outputs": [
    {
     "data": {
      "text/plain": [
       "4"
      ]
     },
     "execution_count": 21,
     "metadata": {},
     "output_type": "execute_result"
    }
   ],
   "source": [
    "2**(4-2)"
   ]
  },
  {
   "cell_type": "code",
   "execution_count": null,
   "metadata": {},
   "outputs": [],
   "source": []
  }
 ],
 "metadata": {
  "kernelspec": {
   "display_name": "Python 3",
   "language": "python",
   "name": "python3"
  },
  "language_info": {
   "codemirror_mode": {
    "name": "ipython",
    "version": 3
   },
   "file_extension": ".py",
   "mimetype": "text/x-python",
   "name": "python",
   "nbconvert_exporter": "python",
   "pygments_lexer": "ipython3",
   "version": "3.7.0"
  }
 },
 "nbformat": 4,
 "nbformat_minor": 2
}
