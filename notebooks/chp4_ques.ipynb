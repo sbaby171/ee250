{
 "cells": [
  {
   "cell_type": "markdown",
   "metadata": {},
   "source": [
    "# Chapter 4 Questions: \n",
    "\n",
    "\n",
    "\n",
    "* [4.13](#4_13)\n",
    "\n"
   ]
  },
  {
   "cell_type": "code",
   "execution_count": 2,
   "metadata": {},
   "outputs": [],
   "source": [
    "import numpy as np\n",
    "import matplotlib.pyplot as plt"
   ]
  },
  {
   "cell_type": "markdown",
   "metadata": {},
   "source": [
    "### 4.13 <a name=\"4_13\"/>\n",
    "A random variable $X$ is given by: \n",
    "\n",
    "$$ F_{X}(x) =  \n",
    "\\left\\{\n",
    "\\begin{array}{ll}\n",
    "      0  & for \\space x \\lt  0  \\\\\n",
    "      1-\\frac{1}{4}e^{-2x}  & for\\space x \\ge 0. \\\\\n",
    "\\end{array} \n",
    "\\right. \n",
    "$$ \n",
    "\n",
    "__(a)__ Plot the cdf and identify the type of the random variable. \n",
    "\n",
    "\n",
    "__(b)__ Find $P[X \\le 2]$, $P[X = 0]$, $P[X \\le 0]$, $P[2 \\le X \\le 6]$, $P[X>10]$. \n",
    "\n",
    "\n",
    "#### Answers: \n",
    "\n",
    "__(a)__: See plot below. Also, this is a mixed-typed random variable due to the jump at $x=0$ and the continous range of $x \\ge 0$\n",
    "\n",
    "__(b)__: Using the following properities below, we can forgo the intergal ot find probabilities. \n",
    "\n",
    "<ol>\n",
    "$ F_{X}(x)=\\operatorname {P} (X\\leq x) $\n",
    "\n",
    "$ \\operatorname {P} (a<X\\leq b)=F_{X}(b)-F_{X}(a)$\n",
    "\n",
    "</ol>"
   ]
  },
  {
   "cell_type": "code",
   "execution_count": 15,
   "metadata": {},
   "outputs": [
    {
     "data": {
      "image/png": "[encoded data removed]",
      "text/plain": [
       "<Figure size 432x288 with 1 Axes>"
      ]
     },
     "metadata": {
      "needs_background": "light"
     },
     "output_type": "display_data"
    }
   ],
   "source": [
    "_stop_x = 5\n",
    "xs = np.linspace(0,_stop_x,_stop_x*5)\n",
    "Fx = 1- (0.25)*np.exp(-2*xs)\n",
    "plt.plot(xs,Fx); plt.title(\"cdf plot: (part a)\");plt.grid();"
   ]
  },
  {
   "cell_type": "code",
   "execution_count": 4,
   "metadata": {},
   "outputs": [
    {
     "data": {
      "text/plain": [
       "80"
      ]
     },
     "execution_count": 4,
     "metadata": {},
     "output_type": "execute_result"
    }
   ],
   "source": [
    "4*20\n"
   ]
  },
  {
   "cell_type": "code",
   "execution_count": null,
   "metadata": {},
   "outputs": [],
   "source": []
  }
 ],
 "metadata": {
  "kernelspec": {
   "display_name": "Python 3",
   "language": "python",
   "name": "python3"
  },
  "language_info": {
   "codemirror_mode": {
    "name": "ipython",
    "version": 3
   },
   "file_extension": ".py",
   "mimetype": "text/x-python",
   "name": "python",
   "nbconvert_exporter": "python",
   "pygments_lexer": "ipython3",
   "version": "3.7.0"
  }
 },
 "nbformat": 4,
 "nbformat_minor": 2
}
